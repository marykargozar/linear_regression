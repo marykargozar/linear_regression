{
  "nbformat": 4,
  "nbformat_minor": 0,
  "metadata": {
    "colab": {
      "provenance": [],
      "authorship_tag": "ABX9TyMxNED7487iAwrF20LHgzEQ",
      "include_colab_link": true
    },
    "kernelspec": {
      "name": "python3",
      "display_name": "Python 3"
    },
    "language_info": {
      "name": "python"
    }
  },
  "cells": [
    {
      "cell_type": "markdown",
      "metadata": {
        "id": "view-in-github",
        "colab_type": "text"
      },
      "source": [
        "<a href=\"https://colab.research.google.com/github/marykargozar/linear_regression/blob/main/Ridge_Lasso_LSR.ipynb\" target=\"_parent\"><img src=\"https://colab.research.google.com/assets/colab-badge.svg\" alt=\"Open In Colab\"/></a>"
      ]
    },
    {
      "cell_type": "code",
      "execution_count": null,
      "metadata": {
        "id": "tiV6fsK1ywVi"
      },
      "outputs": [],
      "source": [
        "import pandas as pd\n",
        "import numpy as np\n",
        "from sklearn.preprocessing import StandardScaler\n",
        "from sklearn.model_selection import train_test_split\n"
      ]
    },
    {
      "cell_type": "code",
      "source": [
        "df = pd.read_csv('/content/boston_housing (1).csv')\n",
        "print(df.shape)"
      ],
      "metadata": {
        "colab": {
          "base_uri": "https://localhost:8080/"
        },
        "id": "dpTPeLKO10oW",
        "outputId": "7fad37fb-2630-4434-c724-40a34fd7ea33"
      },
      "execution_count": null,
      "outputs": [
        {
          "output_type": "stream",
          "name": "stdout",
          "text": [
            "(506, 14)\n"
          ]
        }
      ]
    },
    {
      "cell_type": "markdown",
      "source": [
        "***Preprcessing_StandardScaler***"
      ],
      "metadata": {
        "id": "SLMdlOPp-M0j"
      }
    },
    {
      "cell_type": "code",
      "source": [
        "from sklearn.preprocessing import StandardScaler\n",
        "\n",
        "X = df.drop(columns = ['MEDV'], axis = 1)\n",
        "Y = df['MEDV']\n",
        "\n",
        "# scale data\n",
        "\n",
        "scaler = StandardScaler()\n",
        "X_scaled = scaler.fit_transform(X)           # OR : scaler = StandardScaler().fit_transform(X)\n",
        "#This method first computes the mean and standard deviation of each feature in X"
      ],
      "metadata": {
        "id": "zKF0aHq9IinA"
      },
      "execution_count": null,
      "outputs": []
    },
    {
      "cell_type": "code",
      "source": [
        "from sklearn.model_selection import train_test_split\n",
        "\n",
        "X_train,X_test,y_train,y_test = train_test_split( X_scaled, Y, test_size = 0.25, random_state = 129)\n",
        "# split the standardized features (X_scaled) and the corresponding labels (Y)\n",
        "\n",
        "\n",
        "print(X_train.shape, y_train.shape)\n",
        "print(X_test.shape, y_test.shape)"
      ],
      "metadata": {
        "colab": {
          "base_uri": "https://localhost:8080/"
        },
        "id": "WCDaP8bfHTwq",
        "outputId": "0bf20ef2-3d3c-4155-92d8-3bb392b42b56"
      },
      "execution_count": null,
      "outputs": [
        {
          "output_type": "stream",
          "name": "stdout",
          "text": [
            "(379, 13) (379,)\n",
            "(127, 13) (127,)\n"
          ]
        }
      ]
    },
    {
      "cell_type": "markdown",
      "source": [
        "\n",
        "***Standard Linear Regression  _ MSE_ MAE***"
      ],
      "metadata": {
        "id": "zygfraqmeiDK"
      }
    },
    {
      "cell_type": "code",
      "source": [
        "# Standard Linear Regression\n",
        "from sklearn.linear_model import LinearRegression\n",
        "from sklearn.metrics import mean_squared_error\n",
        "from sklearn.metrics import mean_absolute_error\n",
        "from sklearn.metrics import r2_score\n",
        "import time\n",
        "\n",
        "linear = LinearRegression()\n",
        "start = time.time()\n",
        "linear.fit(X_train, y_train)               # OR : linear = LinearRegression().fit(X_train , y_train)\n",
        "\n",
        "print(f'Time for calculation of W for Linear: {time.time()-start}')\n",
        "\n",
        "W_linear = np.block([linear.coef_ , linear.intercept_])\n",
        "\n",
        "Y_linear = np.dot(X_test, W_linear[:,:-1]) + W_linear[:,-1]       # prediction : y = WX+B\n",
        "\n",
        "   # y_test => actual target values       Y_linear => predicted values\n",
        "print(\"MSE score Linear:\", mean_squared_error(y_test, Y_linear))          # MSE\n",
        "\n",
        "print(\"MAE score Linear:\", mean_absolute_error(y_test, Y_linear))         # MAE\n",
        "\n",
        "print(\"R2 score: \", r2_score(y_test, Y_linear))       # R-squared score metric"
      ],
      "metadata": {
        "colab": {
          "base_uri": "https://localhost:8080/"
        },
        "id": "CxrfE4ZhLT8m",
        "outputId": "0bb7df64-5fef-4012-ebf3-797e724aa501"
      },
      "execution_count": null,
      "outputs": [
        {
          "output_type": "stream",
          "name": "stdout",
          "text": [
            "Time for calculation of W for Linear: 0.047544240951538086\n",
            "MSE score Linear: 20.173001854300885\n",
            "MAE score Linear: 3.4004938337690853\n",
            "R2 score:  0.7570917553369886\n"
          ]
        }
      ]
    },
    {
      "cell_type": "markdown",
      "source": [
        "***Lasso Regression***"
      ],
      "metadata": {
        "id": "yOHH6FSviW5Z"
      }
    },
    {
      "cell_type": "code",
      "source": [
        "# Lasso Regression\n",
        "from sklearn.linear_model import Lasso\n",
        "\n",
        "lasso = Lasso(alpha=1, max_iter=1000)\n",
        "start = time.time()\n",
        "lasso.fit(X_train, y_train)\n",
        "print(f'Time for calculation of W for Lasso: {time.time()-start}')\n",
        "W_lasso = np.block([lasso.coef_ , lasso.intercept_])\n",
        "\n",
        "Y_lasso = np.dot(X_test, lasso.coef_) + lasso.intercept_ # columns of first and rows of the second must be the same\n",
        "# lasso.coef_.shape = [127,13] & lasso.coef_.shape = [13,1]\n",
        "print(\"MSE Lasso:\", mean_squared_error(y_test, Y_lasso))\n",
        "print(\"MAE Lasso:\", mean_absolute_error(y_test, Y_lasso))\n",
        "print(\"R2 score: \", r2_score(y_test, Y_lasso))\n"
      ],
      "metadata": {
        "colab": {
          "base_uri": "https://localhost:8080/"
        },
        "id": "ebzyxWM0hzGR",
        "outputId": "9fb44136-4adb-4187-ff30-8efdb96f87fa"
      },
      "execution_count": null,
      "outputs": [
        {
          "output_type": "stream",
          "name": "stdout",
          "text": [
            "Time for calculation of W for Lasso: 0.012842893600463867\n",
            "MSE Lasso: 23.488399020697177\n",
            "MAE Lasso: 3.471378348356676\n",
            "R2 score:  0.7171702150592165\n"
          ]
        }
      ]
    },
    {
      "cell_type": "markdown",
      "source": [
        "***Ridge Regression***"
      ],
      "metadata": {
        "id": "8AOQHURAmZeW"
      }
    },
    {
      "cell_type": "code",
      "source": [
        "# Ridge Regression\n",
        "from sklearn.linear_model import Ridge\n",
        "\n",
        "ridge = Ridge(alpha=1)\n",
        "start = time.time()\n",
        "ridge.fit(X_train, y_train)\n",
        "print(f'Time for calculation of W for Ridge: {time.time()-start}')\n",
        "W_ridge = np.block([ridge.coef_,ridge.intercept_])\n",
        "Y_ridge = np.dot(X_test, ridge.coef_) + ridge.intercept_        # prediction = y = X.W + B\n",
        "\n",
        "print(\"MSE Ridge:\", mean_squared_error(y_test, Y_ridge))\n",
        "print(\"MAE Ridge:\", mean_absolute_error(y_test, Y_ridge))\n",
        "\n",
        "print(\"R2 score: \", r2_score(y_test, Y_ridge))\n",
        "# R2 score = measure of how well the predictions made by the model match the true values & range 0-1"
      ],
      "metadata": {
        "colab": {
          "base_uri": "https://localhost:8080/"
        },
        "id": "K8ap65Rbjs1r",
        "outputId": "ff273ece-863c-459c-b446-cf3bc1fd560f"
      },
      "execution_count": null,
      "outputs": [
        {
          "output_type": "stream",
          "name": "stdout",
          "text": [
            "Time for calculation of W for Ridge: 0.006705284118652344\n",
            "MSE Ridge: 20.073413341190214\n",
            "MAE Ridge: 3.3824226495993686\n",
            "R2 score:  0.7582909259454598\n"
          ]
        }
      ]
    }
  ]
}