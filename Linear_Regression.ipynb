{
  "nbformat": 4,
  "nbformat_minor": 0,
  "metadata": {
    "colab": {
      "provenance": []
    },
    "kernelspec": {
      "name": "python3",
      "display_name": "Python 3"
    },
    "language_info": {
      "name": "python"
    }
  },
  "cells": [
    {
      "cell_type": "code",
      "execution_count": 25,
      "metadata": {
        "id": "vv7pKSXxxPEs"
      },
      "outputs": [],
      "source": [
        "import pandas as pd\n",
        "import seaborn as sns\n",
        "from matplotlib import pyplot as plt\n",
        "import numpy as np"
      ]
    },
    {
      "cell_type": "code",
      "source": [
        "df = pd.read_csv('/content/boston_housing (1).csv')"
      ],
      "metadata": {
        "id": "Tz7dSbuKxef4"
      },
      "execution_count": 5,
      "outputs": []
    },
    {
      "cell_type": "code",
      "source": [
        "df.head()"
      ],
      "metadata": {
        "id": "mreqtNeRxnpT"
      },
      "execution_count": null,
      "outputs": []
    },
    {
      "cell_type": "code",
      "source": [
        "df.describe()"
      ],
      "metadata": {
        "id": "DT6Kx1tuxo9a"
      },
      "execution_count": null,
      "outputs": []
    },
    {
      "cell_type": "code",
      "source": [
        "df.shape[0]"
      ],
      "metadata": {
        "colab": {
          "base_uri": "https://localhost:8080/"
        },
        "id": "ANtrmU2fx0wv",
        "outputId": "822821c9-1489-4461-8e13-a27c247dff9a"
      },
      "execution_count": 9,
      "outputs": [
        {
          "output_type": "execute_result",
          "data": {
            "text/plain": [
              "506"
            ]
          },
          "metadata": {},
          "execution_count": 9
        }
      ]
    },
    {
      "cell_type": "code",
      "source": [
        "df.shape[1]"
      ],
      "metadata": {
        "colab": {
          "base_uri": "https://localhost:8080/"
        },
        "id": "rWoMVQrdx7AP",
        "outputId": "35cd3af4-8a58-4ac1-de87-79eb0dc34327"
      },
      "execution_count": 10,
      "outputs": [
        {
          "output_type": "execute_result",
          "data": {
            "text/plain": [
              "14"
            ]
          },
          "metadata": {},
          "execution_count": 10
        }
      ]
    },
    {
      "cell_type": "code",
      "source": [
        "sns.histplot(df['MEDV'], kde=True , linewidth=0)"
      ],
      "metadata": {
        "id": "XsStp2iAx86U"
      },
      "execution_count": null,
      "outputs": []
    },
    {
      "cell_type": "code",
      "source": [
        "features = df[df.columns[:-1]]\n",
        "target = df[df.columns[-1]]"
      ],
      "metadata": {
        "id": "adXwxd_fycD5"
      },
      "execution_count": 13,
      "outputs": []
    },
    {
      "cell_type": "code",
      "source": [
        "features = (features - features.min() ) / (features.max() - features.min())   #min-max\n",
        "target = (target - target.min())/( target.max() - target.min())\n"
      ],
      "metadata": {
        "id": "f6uWqUdiy5_p"
      },
      "execution_count": 14,
      "outputs": []
    },
    {
      "cell_type": "code",
      "source": [
        "fig, axs = plt.subplots(7, 2, figsize=(14, 30))\n",
        "for index, feature in enumerate(features.columns):\n",
        "    subplot_idx = int(index / 2)\n",
        "    axs[subplot_idx, index % 2].scatter(x=features[features.columns[index]], y=target)\n",
        "    axs[subplot_idx, index % 2].set_xlabel(feature)\n",
        "    axs[subplot_idx, index % 2].set_ylabel(\"Target\")\n",
        "plt.show(block=True)\n",
        "plt.close()"
      ],
      "metadata": {
        "id": "ufiOZxnVzvK0"
      },
      "execution_count": null,
      "outputs": []
    },
    {
      "cell_type": "code",
      "source": [
        "correlation_matrix = df.corr().round(2)\n",
        "sns.heatmap(data=correlation_matrix , annot=True)\n",
        "plt.show()\n"
      ],
      "metadata": {
        "id": "eUcPyUyA1J8O"
      },
      "execution_count": null,
      "outputs": []
    },
    {
      "cell_type": "code",
      "source": [
        "independent_variables = ['RM' , 'LSTAT']\n",
        "dependent_variable =['MEDV']\n",
        "\n",
        "X = features[independent_variables].to_numpy()\n",
        "y = target.to_numpy().reshape(-1)"
      ],
      "metadata": {
        "id": "q-ZA9R6e2AAy"
      },
      "execution_count": 23,
      "outputs": []
    },
    {
      "cell_type": "code",
      "source": [
        "X_aug = np.block([X,np.ones((X.shape[0],1))])\n",
        "W = np.linalg.inv(X_aug.T.dot(X_aug)).dot(X_aug.T).dot(y)\n",
        "W = W.ravel()\n",
        "print(W)\n",
        "print(f'Coefficients : {W[:-1]} , Bias: {W[-1]}')"
      ],
      "metadata": {
        "colab": {
          "base_uri": "https://localhost:8080/"
        },
        "id": "moXkFxhR_FXP",
        "outputId": "c4bd3233-d081-47b4-d9ff-b143c536c709"
      },
      "execution_count": 30,
      "outputs": [
        {
          "output_type": "stream",
          "name": "stdout",
          "text": [
            "[ 0.59088219 -0.51731258  0.2371775 ]\n",
            "Coefficients : [ 0.59088219 -0.51731258] , Bias: 0.2371774951579\n"
          ]
        }
      ]
    },
    {
      "cell_type": "code",
      "source": [
        "X_aug.shape"
      ],
      "metadata": {
        "colab": {
          "base_uri": "https://localhost:8080/"
        },
        "id": "WQXUu-wQEz1n",
        "outputId": "545ae7ee-952f-4a62-b136-2cec0432f377"
      },
      "execution_count": 27,
      "outputs": [
        {
          "output_type": "execute_result",
          "data": {
            "text/plain": [
              "(506, 3)"
            ]
          },
          "metadata": {},
          "execution_count": 27
        }
      ]
    },
    {
      "cell_type": "code",
      "source": [
        "type(X_aug)"
      ],
      "metadata": {
        "colab": {
          "base_uri": "https://localhost:8080/"
        },
        "id": "Eb96ayUEFZib",
        "outputId": "30c77f6a-13b7-4db6-e044-f1c3839db23a"
      },
      "execution_count": 28,
      "outputs": [
        {
          "output_type": "execute_result",
          "data": {
            "text/plain": [
              "numpy.ndarray"
            ]
          },
          "metadata": {},
          "execution_count": 28
        }
      ]
    },
    {
      "cell_type": "code",
      "source": [
        "y_pred = W[0:-1].dot(X.T) + W[-1]\n",
        "MSE = np.sum(np.square(y-y_pred))/len(y)\n",
        "print(f\"MSE: {MSE:.4f}\")                       #This line prints the MSE with four decimal places"
      ],
      "metadata": {
        "colab": {
          "base_uri": "https://localhost:8080/"
        },
        "id": "gXoENDCfNmO_",
        "outputId": "0361ab62-d9f5-4492-f82b-757b3ed94153"
      },
      "execution_count": 32,
      "outputs": [
        {
          "output_type": "stream",
          "name": "stdout",
          "text": [
            "MSE: 0.0151\n"
          ]
        }
      ]
    }
  ]
}