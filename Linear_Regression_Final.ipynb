{
  "nbformat": 4,
  "nbformat_minor": 0,
  "metadata": {
    "colab": {
      "provenance": [],
      "toc_visible": true,
      "authorship_tag": "ABX9TyMTHjnsOYM695oTF4yZCPLL",
      "include_colab_link": true
    },
    "kernelspec": {
      "name": "python3",
      "display_name": "Python 3"
    },
    "language_info": {
      "name": "python"
    }
  },
  "cells": [
    {
      "cell_type": "markdown",
      "metadata": {
        "id": "view-in-github",
        "colab_type": "text"
      },
      "source": [
        "<a href=\"https://colab.research.google.com/github/marykargozar/linear_regression/blob/main/Linear_Regression_Final.ipynb\" target=\"_parent\"><img src=\"https://colab.research.google.com/assets/colab-badge.svg\" alt=\"Open In Colab\"/></a>"
      ]
    },
    {
      "cell_type": "code",
      "execution_count": null,
      "metadata": {
        "id": "vv7pKSXxxPEs"
      },
      "outputs": [],
      "source": [
        "import pandas as pd\n",
        "import seaborn as sns\n",
        "from matplotlib import pyplot as plt\n",
        "import numpy as np"
      ]
    },
    {
      "cell_type": "code",
      "source": [
        "df = pd.read_csv('/content/boston_housing (1).csv')"
      ],
      "metadata": {
        "id": "Tz7dSbuKxef4"
      },
      "execution_count": null,
      "outputs": []
    },
    {
      "cell_type": "code",
      "source": [
        "df.isna().sum()"
      ],
      "metadata": {
        "id": "8HaC6Cpazqze"
      },
      "execution_count": null,
      "outputs": []
    },
    {
      "cell_type": "code",
      "source": [
        "df.head(3)"
      ],
      "metadata": {
        "id": "mreqtNeRxnpT"
      },
      "execution_count": null,
      "outputs": []
    },
    {
      "cell_type": "code",
      "source": [
        "df.describe()"
      ],
      "metadata": {
        "id": "DT6Kx1tuxo9a"
      },
      "execution_count": null,
      "outputs": []
    },
    {
      "cell_type": "code",
      "source": [
        "df.shape[0]         # number of rows"
      ],
      "metadata": {
        "colab": {
          "base_uri": "https://localhost:8080/"
        },
        "id": "ANtrmU2fx0wv",
        "outputId": "edc876f7-fe1c-4767-dfde-745fb25ef402"
      },
      "execution_count": null,
      "outputs": [
        {
          "output_type": "execute_result",
          "data": {
            "text/plain": [
              "506"
            ]
          },
          "metadata": {},
          "execution_count": 6
        }
      ]
    },
    {
      "cell_type": "code",
      "source": [
        "df.shape[1]         # number of columns"
      ],
      "metadata": {
        "colab": {
          "base_uri": "https://localhost:8080/"
        },
        "id": "rWoMVQrdx7AP",
        "outputId": "e769f3f7-6e3e-4a06-a347-204fd2a0f0a9"
      },
      "execution_count": null,
      "outputs": [
        {
          "output_type": "execute_result",
          "data": {
            "text/plain": [
              "14"
            ]
          },
          "metadata": {},
          "execution_count": 7
        }
      ]
    },
    {
      "cell_type": "code",
      "source": [
        "sns.histplot(df['MEDV'], kde=True , linewidth=0)\n"
      ],
      "metadata": {
        "id": "XsStp2iAx86U"
      },
      "execution_count": null,
      "outputs": []
    },
    {
      "cell_type": "code",
      "source": [
        "features = df[df.columns[:-1]]       # == df[:-1]\n",
        "\n",
        "target = df[df.columns[-1]]           # == df[-1]"
      ],
      "metadata": {
        "id": "adXwxd_fycD5"
      },
      "execution_count": null,
      "outputs": []
    },
    {
      "cell_type": "code",
      "source": [
        "features = (features - features.min() ) / (features.max() - features.min())   #min-max\n",
        "target = (target - target.min())/( target.max() - target.min())\n"
      ],
      "metadata": {
        "id": "f6uWqUdiy5_p"
      },
      "execution_count": null,
      "outputs": []
    },
    {
      "cell_type": "code",
      "source": [
        "fig, axs = plt.subplots(7, 2, figsize=(14, 30))\n",
        "for index, feature in enumerate(features.columns):\n",
        "    subplot_idx = int(index / 2)\n",
        "    axs[subplot_idx, index % 2].scatter(x=features[features.columns[index]], y=target)\n",
        "    axs[subplot_idx, index % 2].set_xlabel(feature)\n",
        "    axs[subplot_idx, index % 2].set_ylabel(\"Target\")\n",
        "plt.show(block=True)\n",
        "plt.close()"
      ],
      "metadata": {
        "id": "ufiOZxnVzvK0"
      },
      "execution_count": null,
      "outputs": []
    },
    {
      "cell_type": "code",
      "source": [
        "correlation_matrix = df.corr().round(2)\n",
        "sns.heatmap(data = correlation_matrix , annot=True)\n",
        "plt.show()"
      ],
      "metadata": {
        "id": "eUcPyUyA1J8O"
      },
      "execution_count": null,
      "outputs": []
    },
    {
      "cell_type": "code",
      "source": [
        "independent_variables = ['RM' , 'LSTAT']     # linears\n",
        "dependent_variable =['MEDV']\n",
        "\n",
        "X = features[independent_variables].to_numpy()\n",
        "y = target.to_numpy().reshape(-1)"
      ],
      "metadata": {
        "id": "q-ZA9R6e2AAy"
      },
      "execution_count": null,
      "outputs": []
    },
    {
      "cell_type": "markdown",
      "source": [
        "*Linear Regression using OLS (Ordinary Least Square)\n",
        ":A method used for estimating the parameters (coefficients) of a linear regression model*"
      ],
      "metadata": {
        "id": "Lopv77uDTwqq"
      }
    },
    {
      "cell_type": "code",
      "source": [
        "X_aug = np.block([X , np.ones((X.shape[0],1))])        # X.shape[0] => number of rows\n",
        "\n",
        "W = np.linalg.inv(X_aug.T.dot(X_aug)).dot(X_aug.T).dot(y)           # W(Coefficents) = (X.T * X)^-1 * (X.T) * (y)\n",
        "W = W.ravel()        # making a vector\n",
        "print(W)\n",
        "print(f'Coefficients : {W[:-1]} , Bias: {W[-1]}')"
      ],
      "metadata": {
        "colab": {
          "base_uri": "https://localhost:8080/"
        },
        "id": "moXkFxhR_FXP",
        "outputId": "6fe379a5-92c0-4b80-ed82-0f9669881e74"
      },
      "execution_count": null,
      "outputs": [
        {
          "output_type": "stream",
          "name": "stdout",
          "text": [
            "[ 0.59088219 -0.51731258  0.2371775 ]\n",
            "Coefficients : [ 0.59088219 -0.51731258] , Bias: 0.2371774951579\n"
          ]
        }
      ]
    },
    {
      "cell_type": "code",
      "source": [
        "X_aug.shape   # => f1 , f2 , Bias"
      ],
      "metadata": {
        "id": "WQXUu-wQEz1n",
        "colab": {
          "base_uri": "https://localhost:8080/"
        },
        "outputId": "35c78b25-cc1b-49c4-f2b8-c4d3122b149e"
      },
      "execution_count": null,
      "outputs": [
        {
          "output_type": "execute_result",
          "data": {
            "text/plain": [
              "(506, 3)"
            ]
          },
          "metadata": {},
          "execution_count": 10
        }
      ]
    },
    {
      "cell_type": "code",
      "source": [
        "type(X_aug)"
      ],
      "metadata": {
        "id": "Eb96ayUEFZib",
        "colab": {
          "base_uri": "https://localhost:8080/"
        },
        "outputId": "1eba53d9-e0d4-4921-b873-3d74fe7eebab"
      },
      "execution_count": null,
      "outputs": [
        {
          "output_type": "execute_result",
          "data": {
            "text/plain": [
              "numpy.ndarray"
            ]
          },
          "metadata": {},
          "execution_count": 11
        }
      ]
    },
    {
      "cell_type": "markdown",
      "source": [
        " *MSE :*"
      ],
      "metadata": {
        "id": "YtlQZ7ykXEdy"
      }
    },
    {
      "cell_type": "code",
      "source": [
        "y_pred = W[0:-1].dot(X.T) + W[-1]                      # y(Prediction)= X(T).W + bias\n",
        "MSE = np.sum(np.square(y-y_pred))/len(y)        # MSE= sum[y-y_pred]^2\n",
        "print(f\"MSE: {MSE:.4f}\")                  #This line prints the MSE with four decimal places"
      ],
      "metadata": {
        "colab": {
          "base_uri": "https://localhost:8080/"
        },
        "id": "gXoENDCfNmO_",
        "outputId": "c6a0b6cc-b52b-4cf0-ca2d-f1135d68b171"
      },
      "execution_count": null,
      "outputs": [
        {
          "output_type": "stream",
          "name": "stdout",
          "text": [
            "MSE: 1.7733\n"
          ]
        }
      ]
    },
    {
      "cell_type": "code",
      "source": [
        "data = np.c_[X[:,0], X[:,1]]     # X[:,0] => selects all rows from the first column of the array X\n",
        "        # X[:,1] => selects all rows from the second column of the array X\n",
        "# np.c => concatinate 2 columns\n",
        "\n",
        "# Create X, Y data to predict|\n",
        "mn = np.min(data, axis=0)\n",
        "mx = np.max(data, axis=0)\n",
        "XX, YY = np.meshgrid(np.linspace(mn[0], mx[0], 100), np.linspace(mn[1], mx[1], 100))\n",
        "# calculate prediction\n",
        "Z = W[0] * XX + W[1] * YY + W[-1]\n",
        "# plot the surface\n",
        "fig = plt.figure(figsize=(20,12))\n",
        "ax = fig.add_subplot(projection=\"3d\")\n",
        "ax.plot_surface(XX, YY, Z, alpha=0.7)\n",
        "ax.scatter(data[:, 0], data[:, 1], y, c=\"r\", s=50)\n",
        "plt.xlabel(\"RM\")\n",
        "plt.ylabel(\"LSTAT\")\n",
        "ax.set_zlabel(\"MEDV\")\n",
        "plt.show()"
      ],
      "metadata": {
        "id": "yLzdl4mCaYbv"
      },
      "execution_count": null,
      "outputs": []
    },
    {
      "cell_type": "markdown",
      "source": [
        "*Linear Regression SKlearn*"
      ],
      "metadata": {
        "id": "tdVJlWIl4HGx"
      }
    },
    {
      "cell_type": "code",
      "source": [
        "%%time\n",
        "from sklearn.linear_model import LinearRegression\n",
        "\n",
        "Lr = LinearRegression().fit(X,y)                                       # Linear Regression model\n",
        "print(f'Coefficents= {Lr.coef_}  Bias= {Lr.intercept_}' )                  # Coefficents & Bias\n"
      ],
      "metadata": {
        "colab": {
          "base_uri": "https://localhost:8080/"
        },
        "id": "7PjAdfar37xz",
        "outputId": "ef9698a8-47ba-4e56-c323-6c3f93d88a06"
      },
      "execution_count": null,
      "outputs": [
        {
          "output_type": "stream",
          "name": "stdout",
          "text": [
            "Coefficents= [ 0.01539928  0.00799423  0.01600406 ...  0.00227875 -0.02139339\n",
            "  0.02745186]  Bias= 9.994789047871407\n",
            "CPU times: user 13.2 s, sys: 1.67 s, total: 14.9 s\n",
            "Wall time: 10.1 s\n"
          ]
        }
      ]
    },
    {
      "cell_type": "markdown",
      "source": [
        "*MSE :*"
      ],
      "metadata": {
        "id": "ORRdeqB57MZg"
      }
    },
    {
      "cell_type": "code",
      "source": [
        "from sklearn.metrics import mean_squared_error\n",
        "\n",
        "y_pred = Lr.predict(X)\n",
        "MSE = mean_squared_error(y,y_pred)         # MSE\n",
        "print(f'{MSE:.4f}')"
      ],
      "metadata": {
        "colab": {
          "base_uri": "https://localhost:8080/"
        },
        "id": "7h1zx35R7FGE",
        "outputId": "6016e138-e22f-49b4-e760-503087548b23"
      },
      "execution_count": null,
      "outputs": [
        {
          "output_type": "stream",
          "name": "stdout",
          "text": [
            "1.7733\n"
          ]
        }
      ]
    },
    {
      "cell_type": "code",
      "source": [
        "data = np.c_[X[:,0], X[:,1]]\n",
        "\n",
        "# Create X, Y data to predict\n",
        "mn = np.min(data, axis=0)\n",
        "mx = np.max(data, axis=0)\n",
        "XX, YY = np.meshgrid(np.linspace(mn[0], mx[0], 100), np.linspace(mn[1], mx[1], 100))\n",
        "\n",
        "X_ = np.c_[XX.flatten(),YY.flatten()]\n",
        "   # X_ => have two columns: the first column containing all the x-coordinates from the grid\n",
        "   #  the second column containing all the y-coordinates.\n",
        "\n",
        "# calculate prediction\n",
        "Z = lr.predict(X_).reshape(XX.shape)\n",
        "# plot the surface\n",
        "fig = plt.figure(figsize=(20,12))\n",
        "ax = fig.add_subplot(projection=\"3d\")\n",
        "ax.plot_surface(XX, YY, Z, alpha=0.7)\n",
        "ax.scatter(data[:, 0], data[:, 1], y, c=\"g\", s=50)\n",
        "plt.xlabel(\"RM\")  # LSTAT\n",
        "plt.ylabel(\"LSTAT\")  # RM\n",
        "ax.set_zlabel(\"MEDV\")\n",
        "plt.show()"
      ],
      "metadata": {
        "id": "IwuJK2giDfLr"
      },
      "execution_count": null,
      "outputs": []
    },
    {
      "cell_type": "markdown",
      "source": [
        "***Linear Regression - Gradient Descent***"
      ],
      "metadata": {
        "id": "IlwpXtILLOLp"
      }
    },
    {
      "cell_type": "code",
      "source": [
        "%%time\n",
        "learning_rate = 0.005\n",
        "num_itterations = 1000\n",
        "\n",
        "X_aug = np.block([X,np.ones((X.shape[0],1))])\n",
        "theta = np.zeros(X_aug.shape[1])\n",
        "for i in range(num_itterations):\n",
        "    pred = X_aug.dot(theta)                      # Y(pred) = W.X + bias == X(aug).W || W = Coefficents = theta\n",
        "    error = pred - y          # error = residual = y(pred) - y\n",
        "    theta = theta - (X_aug.T.dot(error)*learning_rate)/len(X_aug)     # theta = theta - (LR)*X(aug)T*(error)/n\n",
        "print(f\"Coefficients: {theta[:-1]}, Bias: {theta[-1]}\")             # Coefficents & Bias"
      ],
      "metadata": {
        "colab": {
          "base_uri": "https://localhost:8080/"
        },
        "id": "uLE20KHoFMv2",
        "outputId": "ecdacb19-f5f3-4a97-b640-e707a9be1c6b"
      },
      "execution_count": null,
      "outputs": [
        {
          "output_type": "stream",
          "name": "stdout",
          "text": [
            "Coefficients: [ 0.02189741  0.45179329  0.31186596 ...  0.07862193 -0.09717098\n",
            " -0.012529  ], Bias: 9.546475876581988\n",
            "CPU times: user 59.3 s, sys: 3.22 s, total: 1min 2s\n",
            "Wall time: 37.5 s\n"
          ]
        }
      ]
    },
    {
      "cell_type": "markdown",
      "source": [
        "***MSE :***"
      ],
      "metadata": {
        "id": "rurttw_JRIyW"
      }
    },
    {
      "cell_type": "code",
      "source": [
        "y_pred = theta[0:-1].dot(X.T) + theta[-1]               # y(pred) = W.X(T) + Bias\n",
        "MSE = np.sum(np.square(y-y_pred))/len(y)\n",
        "print(f\"MSE: {MSE:.4f}\")"
      ],
      "metadata": {
        "colab": {
          "base_uri": "https://localhost:8080/"
        },
        "id": "f9yoN73SSsC7",
        "outputId": "00ba8705-4839-43a7-e1b7-44db0618f1b2"
      },
      "execution_count": null,
      "outputs": [
        {
          "output_type": "stream",
          "name": "stdout",
          "text": [
            "MSE: 878.3065\n"
          ]
        }
      ]
    },
    {
      "cell_type": "code",
      "source": [
        "data = np.c_[X[:,0], X[:,1]]\n",
        "\n",
        "# Create X, Y data to predict\n",
        "mn = np.min(data, axis=0)\n",
        "mx = np.max(data, axis=0)\n",
        "XX, YY = np.meshgrid(np.linspace(mn[0], mx[0], 100), np.linspace(mn[1], mx[1], 100))\n",
        "# calculate prediction\n",
        "Z = theta[0] * XX + theta[1] * YY + theta[-1]\n",
        "# plot the surface\n",
        "fig = plt.figure(figsize=(20,12))\n",
        "ax = fig.add_subplot(projection=\"3d\")\n",
        "ax.plot_surface(XX, YY, Z, alpha=0.7)\n",
        "ax.scatter(data[:, 0], data[:, 1], y, c=\"r\", s=50)  # [:,0] => select all rows from first column\n",
        "plt.xlabel(\"RM\")  # RM\n",
        "plt.ylabel(\"LSTAT\")  # LSTAT\n",
        "ax.set_zlabel(\"MEDV\")\n",
        "plt.show()"
      ],
      "metadata": {
        "id": "emM4bdb1TiOy"
      },
      "execution_count": null,
      "outputs": []
    },
    {
      "cell_type": "markdown",
      "source": [
        "***Residual analysis***"
      ],
      "metadata": {
        "id": "t6Mleeo-UZcl"
      }
    },
    {
      "cell_type": "code",
      "source": [
        "import matplotlib.pyplot as plt\n",
        "\n",
        "rsd = y-y_pred\n",
        "plot = plt.hist(rsd, bins=16)      # bins = number of bins in hist"
      ],
      "metadata": {
        "id": "R1kG3o-rT9P-"
      },
      "execution_count": null,
      "outputs": []
    },
    {
      "cell_type": "markdown",
      "source": [
        "***Scatter plot: between targets and residuals***"
      ],
      "metadata": {
        "id": "H_6oTgJ6Wa_d"
      }
    },
    {
      "cell_type": "code",
      "source": [
        "                    # ==> plt.scatter(x=y , y=rsd)\n",
        "rsd_analysis = pd.DataFrame()\n",
        "rsd_analysis[\"y\"] = y\n",
        "rsd_analysis[\"rsd\"] = rsd\n",
        "analysis_sorted = rsd_analysis.sort_values(by=\"y\")\n",
        "plt.scatter(x=analysis_sorted.y, y= analysis_sorted.rsd)"
      ],
      "metadata": {
        "id": "HrPz7HmiXPSP"
      },
      "execution_count": null,
      "outputs": []
    }
  ]
}